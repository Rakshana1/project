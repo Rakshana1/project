{
 "cells": [
  {
   "cell_type": "code",
   "execution_count": 1,
   "id": "c6ebc853",
   "metadata": {},
   "outputs": [],
   "source": [
    "import pandas as pd\n",
    "import numpy as np"
   ]
  },
  {
   "cell_type": "code",
   "execution_count": 2,
   "id": "114d5c59",
   "metadata": {},
   "outputs": [
    {
     "data": {
      "text/html": [
       "<div>\n",
       "<style scoped>\n",
       "    .dataframe tbody tr th:only-of-type {\n",
       "        vertical-align: middle;\n",
       "    }\n",
       "\n",
       "    .dataframe tbody tr th {\n",
       "        vertical-align: top;\n",
       "    }\n",
       "\n",
       "    .dataframe thead th {\n",
       "        text-align: right;\n",
       "    }\n",
       "</style>\n",
       "<table border=\"1\" class=\"dataframe\">\n",
       "  <thead>\n",
       "    <tr style=\"text-align: right;\">\n",
       "      <th></th>\n",
       "      <th>AI Tool Name</th>\n",
       "      <th>Description</th>\n",
       "      <th>Free/Paid/Other</th>\n",
       "      <th>Useable For</th>\n",
       "      <th>Charges</th>\n",
       "      <th>Review</th>\n",
       "      <th>Tool Link</th>\n",
       "      <th>Major Category</th>\n",
       "    </tr>\n",
       "  </thead>\n",
       "  <tbody>\n",
       "    <tr>\n",
       "      <th>0</th>\n",
       "      <td>Farm3D</td>\n",
       "      <td>Learning Articulated 3D Animals by Distilling ...</td>\n",
       "      <td>Free</td>\n",
       "      <td>/ experiments    / 3D</td>\n",
       "      <td>NaN</td>\n",
       "      <td>NaN</td>\n",
       "      <td>https://farm3d.github.io/?utm_source=futureped...</td>\n",
       "      <td>other</td>\n",
       "    </tr>\n",
       "    <tr>\n",
       "      <th>1</th>\n",
       "      <td>Mailbutler Ai</td>\n",
       "      <td>AI-powered Smart Assistant for Outlook, Gmail ...</td>\n",
       "      <td>Freemium</td>\n",
       "      <td>/ email assistant</td>\n",
       "      <td>$ 4.95/mo</td>\n",
       "      <td>1</td>\n",
       "      <td>https://www.mailbutler.io/smart-assistant/?utm...</td>\n",
       "      <td>text</td>\n",
       "    </tr>\n",
       "    <tr>\n",
       "      <th>2</th>\n",
       "      <td>Maverick</td>\n",
       "      <td>Send customers personalized videos at scale.</td>\n",
       "      <td>Paid</td>\n",
       "      <td>/ e-commerce    / audio editing</td>\n",
       "      <td>$ 100/mo</td>\n",
       "      <td>NaN</td>\n",
       "      <td>https://www.trymaverick.com/?utm_source=future...</td>\n",
       "      <td>audio</td>\n",
       "    </tr>\n",
       "  </tbody>\n",
       "</table>\n",
       "</div>"
      ],
      "text/plain": [
       "     AI Tool Name                                        Description  \\\n",
       "0          Farm3D  Learning Articulated 3D Animals by Distilling ...   \n",
       "1   Mailbutler Ai  AI-powered Smart Assistant for Outlook, Gmail ...   \n",
       "2       Maverick      Send customers personalized videos at scale.     \n",
       "\n",
       "  Free/Paid/Other                        Useable For    Charges Review  \\\n",
       "0            Free              / experiments    / 3D        NaN    NaN   \n",
       "1        Freemium                  / email assistant  $ 4.95/mo      1   \n",
       "2            Paid    / e-commerce    / audio editing   $ 100/mo    NaN   \n",
       "\n",
       "                                           Tool Link Major Category  \n",
       "0  https://farm3d.github.io/?utm_source=futureped...          other  \n",
       "1  https://www.mailbutler.io/smart-assistant/?utm...           text  \n",
       "2  https://www.trymaverick.com/?utm_source=future...          audio  "
      ]
     },
     "execution_count": 2,
     "metadata": {},
     "output_type": "execute_result"
    }
   ],
   "source": [
    "df = pd.read_csv('tool/all_ai_tool.csv')\n",
    "df.head(3)"
   ]
  },
  {
   "cell_type": "code",
   "execution_count": 61,
   "id": "17af2366",
   "metadata": {},
   "outputs": [],
   "source": [
    "df = df.rename(columns={'AI Tool Name': 'aitool'})"
   ]
  },
  {
   "cell_type": "code",
   "execution_count": 62,
   "id": "354286b5",
   "metadata": {},
   "outputs": [
    {
     "data": {
      "text/plain": [
       "(4000, 7)"
      ]
     },
     "execution_count": 62,
     "metadata": {},
     "output_type": "execute_result"
    }
   ],
   "source": [
    "df.shape"
   ]
  },
  {
   "cell_type": "code",
   "execution_count": 63,
   "id": "3dfa1334",
   "metadata": {
    "scrolled": true
   },
   "outputs": [
    {
     "data": {
      "text/html": [
       "<div>\n",
       "<style scoped>\n",
       "    .dataframe tbody tr th:only-of-type {\n",
       "        vertical-align: middle;\n",
       "    }\n",
       "\n",
       "    .dataframe tbody tr th {\n",
       "        vertical-align: top;\n",
       "    }\n",
       "\n",
       "    .dataframe thead th {\n",
       "        text-align: right;\n",
       "    }\n",
       "</style>\n",
       "<table border=\"1\" class=\"dataframe\">\n",
       "  <thead>\n",
       "    <tr style=\"text-align: right;\">\n",
       "      <th></th>\n",
       "      <th>aitool</th>\n",
       "      <th>Description</th>\n",
       "      <th>Free/Paid/Other</th>\n",
       "      <th>Useable For</th>\n",
       "      <th>Charges</th>\n",
       "      <th>Review</th>\n",
       "      <th>Major Category</th>\n",
       "    </tr>\n",
       "  </thead>\n",
       "  <tbody>\n",
       "    <tr>\n",
       "      <th>0</th>\n",
       "      <td>Linkdelta</td>\n",
       "      <td>autom write for seo and content market .</td>\n",
       "      <td>Paid</td>\n",
       "      <td>/ SEO</td>\n",
       "      <td>$ 15/mo</td>\n",
       "      <td>NaN</td>\n",
       "      <td>text</td>\n",
       "    </tr>\n",
       "    <tr>\n",
       "      <th>1</th>\n",
       "      <td>Astria</td>\n",
       "      <td>creat uniqu imag with ai tailor to you .</td>\n",
       "      <td>Paid</td>\n",
       "      <td>/ image editing    / art    / video generator</td>\n",
       "      <td>$ 10c</td>\n",
       "      <td>NaN</td>\n",
       "      <td>image</td>\n",
       "    </tr>\n",
       "    <tr>\n",
       "      <th>2</th>\n",
       "      <td>Otter Ai</td>\n",
       "      <td>autom meet summari to captur and share insight .</td>\n",
       "      <td>Freemium</td>\n",
       "      <td>/ summarizer    / productivity</td>\n",
       "      <td>$8.33</td>\n",
       "      <td>1</td>\n",
       "      <td>text</td>\n",
       "    </tr>\n",
       "    <tr>\n",
       "      <th>3</th>\n",
       "      <td>Alicent</td>\n",
       "      <td>the ultim browser extens for chatgpt</td>\n",
       "      <td>Freemium</td>\n",
       "      <td>/ productivity</td>\n",
       "      <td>$ 8/mo</td>\n",
       "      <td>NaN</td>\n",
       "      <td>business</td>\n",
       "    </tr>\n",
       "    <tr>\n",
       "      <th>4</th>\n",
       "      <td>Imgcreator</td>\n",
       "      <td>gener custom imag .</td>\n",
       "      <td>Paid</td>\n",
       "      <td>/ image generator</td>\n",
       "      <td>$ 9.99/mo</td>\n",
       "      <td>NaN</td>\n",
       "      <td>image</td>\n",
       "    </tr>\n",
       "    <tr>\n",
       "      <th>...</th>\n",
       "      <td>...</td>\n",
       "      <td>...</td>\n",
       "      <td>...</td>\n",
       "      <td>...</td>\n",
       "      <td>...</td>\n",
       "      <td>...</td>\n",
       "      <td>...</td>\n",
       "    </tr>\n",
       "    <tr>\n",
       "      <th>3995</th>\n",
       "      <td>Ebi.Ai</td>\n",
       "      <td>reduc call volum &amp; improv custom experi with a...</td>\n",
       "      <td>Paid</td>\n",
       "      <td>/ customer support</td>\n",
       "      <td>NaN</td>\n",
       "      <td>NaN</td>\n",
       "      <td>business</td>\n",
       "    </tr>\n",
       "    <tr>\n",
       "      <th>3996</th>\n",
       "      <td>Cassetteai</td>\n",
       "      <td>cassett ai is your copilot for music creation .</td>\n",
       "      <td>Freemium</td>\n",
       "      <td>/ music</td>\n",
       "      <td>NaN</td>\n",
       "      <td>NaN</td>\n",
       "      <td>audio</td>\n",
       "    </tr>\n",
       "    <tr>\n",
       "      <th>3997</th>\n",
       "      <td>Sybill</td>\n",
       "      <td>gener accur , human-lik sale call summari</td>\n",
       "      <td>Paid</td>\n",
       "      <td>/ sales    / summarizer</td>\n",
       "      <td>$ 59/mo</td>\n",
       "      <td>NaN</td>\n",
       "      <td>text</td>\n",
       "    </tr>\n",
       "    <tr>\n",
       "      <th>3998</th>\n",
       "      <td>Pew Ai</td>\n",
       "      <td>instant studio‑qu imag with ai</td>\n",
       "      <td>Free Trial</td>\n",
       "      <td>/ image generator</td>\n",
       "      <td>$ 9.9/mo.</td>\n",
       "      <td>NaN</td>\n",
       "      <td>image</td>\n",
       "    </tr>\n",
       "    <tr>\n",
       "      <th>3999</th>\n",
       "      <td>Presto</td>\n",
       "      <td>presto is an ai-driven autom tool design speci...</td>\n",
       "      <td>Contact for Pricing</td>\n",
       "      <td>/ startup tools</td>\n",
       "      <td>NaN</td>\n",
       "      <td>NaN</td>\n",
       "      <td>business</td>\n",
       "    </tr>\n",
       "  </tbody>\n",
       "</table>\n",
       "<p>4000 rows × 7 columns</p>\n",
       "</div>"
      ],
      "text/plain": [
       "          aitool                                        Description  \\\n",
       "0      Linkdelta           autom write for seo and content market .   \n",
       "1         Astria           creat uniqu imag with ai tailor to you .   \n",
       "2       Otter Ai   autom meet summari to captur and share insight .   \n",
       "3        Alicent               the ultim browser extens for chatgpt   \n",
       "4     Imgcreator                                gener custom imag .   \n",
       "...          ...                                                ...   \n",
       "3995      Ebi.Ai  reduc call volum & improv custom experi with a...   \n",
       "3996  Cassetteai    cassett ai is your copilot for music creation .   \n",
       "3997      Sybill          gener accur , human-lik sale call summari   \n",
       "3998      Pew Ai                     instant studio‑qu imag with ai   \n",
       "3999      Presto  presto is an ai-driven autom tool design speci...   \n",
       "\n",
       "          Free/Paid/Other                                      Useable For  \\\n",
       "0                    Paid                                            / SEO   \n",
       "1                    Paid    / image editing    / art    / video generator   \n",
       "2                Freemium                   / summarizer    / productivity   \n",
       "3                Freemium                                   / productivity   \n",
       "4                    Paid                                / image generator   \n",
       "...                   ...                                              ...   \n",
       "3995                 Paid                               / customer support   \n",
       "3996             Freemium                                          / music   \n",
       "3997                 Paid                          / sales    / summarizer   \n",
       "3998           Free Trial                                / image generator   \n",
       "3999  Contact for Pricing                                  / startup tools   \n",
       "\n",
       "        Charges Review Major Category  \n",
       "0       $ 15/mo    NaN           text  \n",
       "1         $ 10c    NaN          image  \n",
       "2        $8.33       1           text  \n",
       "3        $ 8/mo    NaN       business  \n",
       "4     $ 9.99/mo    NaN          image  \n",
       "...         ...    ...            ...  \n",
       "3995        NaN    NaN       business  \n",
       "3996        NaN    NaN          audio  \n",
       "3997    $ 59/mo    NaN           text  \n",
       "3998  $ 9.9/mo.    NaN          image  \n",
       "3999        NaN    NaN       business  \n",
       "\n",
       "[4000 rows x 7 columns]"
      ]
     },
     "execution_count": 63,
     "metadata": {},
     "output_type": "execute_result"
    }
   ],
   "source": [
    "df"
   ]
  },
  {
   "cell_type": "code",
   "execution_count": 64,
   "id": "351196dd",
   "metadata": {},
   "outputs": [
    {
     "ename": "KeyError",
     "evalue": "\"['Tool Link'] not found in axis\"",
     "output_type": "error",
     "traceback": [
      "\u001b[1;31m---------------------------------------------------------------------------\u001b[0m",
      "\u001b[1;31mKeyError\u001b[0m                                  Traceback (most recent call last)",
      "Cell \u001b[1;32mIn[64], line 1\u001b[0m\n\u001b[1;32m----> 1\u001b[0m df\u001b[38;5;241m=\u001b[39mdf\u001b[38;5;241m.\u001b[39msample(n\u001b[38;5;241m=\u001b[39m\u001b[38;5;241m4000\u001b[39m)\u001b[38;5;241m.\u001b[39mdrop(\u001b[38;5;124m'\u001b[39m\u001b[38;5;124mTool Link\u001b[39m\u001b[38;5;124m'\u001b[39m,axis\u001b[38;5;241m=\u001b[39m\u001b[38;5;241m1\u001b[39m)\u001b[38;5;241m.\u001b[39mreset_index(drop\u001b[38;5;241m=\u001b[39m\u001b[38;5;28;01mTrue\u001b[39;00m)\n",
      "File \u001b[1;32m~\\anaconda3\\Lib\\site-packages\\pandas\\core\\frame.py:5258\u001b[0m, in \u001b[0;36mDataFrame.drop\u001b[1;34m(self, labels, axis, index, columns, level, inplace, errors)\u001b[0m\n\u001b[0;32m   5110\u001b[0m \u001b[38;5;28;01mdef\u001b[39;00m \u001b[38;5;21mdrop\u001b[39m(\n\u001b[0;32m   5111\u001b[0m     \u001b[38;5;28mself\u001b[39m,\n\u001b[0;32m   5112\u001b[0m     labels: IndexLabel \u001b[38;5;241m=\u001b[39m \u001b[38;5;28;01mNone\u001b[39;00m,\n\u001b[1;32m   (...)\u001b[0m\n\u001b[0;32m   5119\u001b[0m     errors: IgnoreRaise \u001b[38;5;241m=\u001b[39m \u001b[38;5;124m\"\u001b[39m\u001b[38;5;124mraise\u001b[39m\u001b[38;5;124m\"\u001b[39m,\n\u001b[0;32m   5120\u001b[0m ) \u001b[38;5;241m-\u001b[39m\u001b[38;5;241m>\u001b[39m DataFrame \u001b[38;5;241m|\u001b[39m \u001b[38;5;28;01mNone\u001b[39;00m:\n\u001b[0;32m   5121\u001b[0m \u001b[38;5;250m    \u001b[39m\u001b[38;5;124;03m\"\"\"\u001b[39;00m\n\u001b[0;32m   5122\u001b[0m \u001b[38;5;124;03m    Drop specified labels from rows or columns.\u001b[39;00m\n\u001b[0;32m   5123\u001b[0m \n\u001b[1;32m   (...)\u001b[0m\n\u001b[0;32m   5256\u001b[0m \u001b[38;5;124;03m            weight  1.0     0.8\u001b[39;00m\n\u001b[0;32m   5257\u001b[0m \u001b[38;5;124;03m    \"\"\"\u001b[39;00m\n\u001b[1;32m-> 5258\u001b[0m     \u001b[38;5;28;01mreturn\u001b[39;00m \u001b[38;5;28msuper\u001b[39m()\u001b[38;5;241m.\u001b[39mdrop(\n\u001b[0;32m   5259\u001b[0m         labels\u001b[38;5;241m=\u001b[39mlabels,\n\u001b[0;32m   5260\u001b[0m         axis\u001b[38;5;241m=\u001b[39maxis,\n\u001b[0;32m   5261\u001b[0m         index\u001b[38;5;241m=\u001b[39mindex,\n\u001b[0;32m   5262\u001b[0m         columns\u001b[38;5;241m=\u001b[39mcolumns,\n\u001b[0;32m   5263\u001b[0m         level\u001b[38;5;241m=\u001b[39mlevel,\n\u001b[0;32m   5264\u001b[0m         inplace\u001b[38;5;241m=\u001b[39minplace,\n\u001b[0;32m   5265\u001b[0m         errors\u001b[38;5;241m=\u001b[39merrors,\n\u001b[0;32m   5266\u001b[0m     )\n",
      "File \u001b[1;32m~\\anaconda3\\Lib\\site-packages\\pandas\\core\\generic.py:4549\u001b[0m, in \u001b[0;36mNDFrame.drop\u001b[1;34m(self, labels, axis, index, columns, level, inplace, errors)\u001b[0m\n\u001b[0;32m   4547\u001b[0m \u001b[38;5;28;01mfor\u001b[39;00m axis, labels \u001b[38;5;129;01min\u001b[39;00m axes\u001b[38;5;241m.\u001b[39mitems():\n\u001b[0;32m   4548\u001b[0m     \u001b[38;5;28;01mif\u001b[39;00m labels \u001b[38;5;129;01mis\u001b[39;00m \u001b[38;5;129;01mnot\u001b[39;00m \u001b[38;5;28;01mNone\u001b[39;00m:\n\u001b[1;32m-> 4549\u001b[0m         obj \u001b[38;5;241m=\u001b[39m obj\u001b[38;5;241m.\u001b[39m_drop_axis(labels, axis, level\u001b[38;5;241m=\u001b[39mlevel, errors\u001b[38;5;241m=\u001b[39merrors)\n\u001b[0;32m   4551\u001b[0m \u001b[38;5;28;01mif\u001b[39;00m inplace:\n\u001b[0;32m   4552\u001b[0m     \u001b[38;5;28mself\u001b[39m\u001b[38;5;241m.\u001b[39m_update_inplace(obj)\n",
      "File \u001b[1;32m~\\anaconda3\\Lib\\site-packages\\pandas\\core\\generic.py:4591\u001b[0m, in \u001b[0;36mNDFrame._drop_axis\u001b[1;34m(self, labels, axis, level, errors, only_slice)\u001b[0m\n\u001b[0;32m   4589\u001b[0m         new_axis \u001b[38;5;241m=\u001b[39m axis\u001b[38;5;241m.\u001b[39mdrop(labels, level\u001b[38;5;241m=\u001b[39mlevel, errors\u001b[38;5;241m=\u001b[39merrors)\n\u001b[0;32m   4590\u001b[0m     \u001b[38;5;28;01melse\u001b[39;00m:\n\u001b[1;32m-> 4591\u001b[0m         new_axis \u001b[38;5;241m=\u001b[39m axis\u001b[38;5;241m.\u001b[39mdrop(labels, errors\u001b[38;5;241m=\u001b[39merrors)\n\u001b[0;32m   4592\u001b[0m     indexer \u001b[38;5;241m=\u001b[39m axis\u001b[38;5;241m.\u001b[39mget_indexer(new_axis)\n\u001b[0;32m   4594\u001b[0m \u001b[38;5;66;03m# Case for non-unique axis\u001b[39;00m\n\u001b[0;32m   4595\u001b[0m \u001b[38;5;28;01melse\u001b[39;00m:\n",
      "File \u001b[1;32m~\\anaconda3\\Lib\\site-packages\\pandas\\core\\indexes\\base.py:6699\u001b[0m, in \u001b[0;36mIndex.drop\u001b[1;34m(self, labels, errors)\u001b[0m\n\u001b[0;32m   6697\u001b[0m \u001b[38;5;28;01mif\u001b[39;00m mask\u001b[38;5;241m.\u001b[39many():\n\u001b[0;32m   6698\u001b[0m     \u001b[38;5;28;01mif\u001b[39;00m errors \u001b[38;5;241m!=\u001b[39m \u001b[38;5;124m\"\u001b[39m\u001b[38;5;124mignore\u001b[39m\u001b[38;5;124m\"\u001b[39m:\n\u001b[1;32m-> 6699\u001b[0m         \u001b[38;5;28;01mraise\u001b[39;00m \u001b[38;5;167;01mKeyError\u001b[39;00m(\u001b[38;5;124mf\u001b[39m\u001b[38;5;124m\"\u001b[39m\u001b[38;5;132;01m{\u001b[39;00m\u001b[38;5;28mlist\u001b[39m(labels[mask])\u001b[38;5;132;01m}\u001b[39;00m\u001b[38;5;124m not found in axis\u001b[39m\u001b[38;5;124m\"\u001b[39m)\n\u001b[0;32m   6700\u001b[0m     indexer \u001b[38;5;241m=\u001b[39m indexer[\u001b[38;5;241m~\u001b[39mmask]\n\u001b[0;32m   6701\u001b[0m \u001b[38;5;28;01mreturn\u001b[39;00m \u001b[38;5;28mself\u001b[39m\u001b[38;5;241m.\u001b[39mdelete(indexer)\n",
      "\u001b[1;31mKeyError\u001b[0m: \"['Tool Link'] not found in axis\""
     ]
    }
   ],
   "source": [
    "df=df.sample(n=4000).drop('Tool Link',axis=1).reset_index(drop=True)"
   ]
  },
  {
   "cell_type": "markdown",
   "id": "f4e2d492",
   "metadata": {},
   "source": [
    "# cleaning"
   ]
  },
  {
   "cell_type": "code",
   "execution_count": 66,
   "id": "be1129d4",
   "metadata": {},
   "outputs": [
    {
     "data": {
      "text/plain": [
       "'Linkdelta'"
      ]
     },
     "execution_count": 66,
     "metadata": {},
     "output_type": "execute_result"
    }
   ],
   "source": [
    "df['aitool'][0]"
   ]
  },
  {
   "cell_type": "code",
   "execution_count": 67,
   "id": "d85daf4c",
   "metadata": {},
   "outputs": [
    {
     "data": {
      "text/plain": [
       "'autom write for seo and content market .'"
      ]
     },
     "execution_count": 67,
     "metadata": {},
     "output_type": "execute_result"
    }
   ],
   "source": [
    "df['Description'][0]"
   ]
  },
  {
   "cell_type": "code",
   "execution_count": 68,
   "id": "1cf2d8ef",
   "metadata": {},
   "outputs": [],
   "source": [
    "df['Description'] = df['Description'].str.lower().replace(r'[^\\w\\s]','').replace(r'\\n',' ',regex=True)"
   ]
  },
  {
   "cell_type": "code",
   "execution_count": 69,
   "id": "77e1516a",
   "metadata": {},
   "outputs": [
    {
     "data": {
      "text/plain": [
       "'presto is an ai-driven autom tool design specif for drive-thru restaur .'"
      ]
     },
     "execution_count": 69,
     "metadata": {},
     "output_type": "execute_result"
    }
   ],
   "source": [
    "df['Description'][3999]"
   ]
  },
  {
   "cell_type": "code",
   "execution_count": 70,
   "id": "25d67ab7",
   "metadata": {},
   "outputs": [
    {
     "name": "stderr",
     "output_type": "stream",
     "text": [
      "[nltk_data] Downloading package punkt to\n",
      "[nltk_data]     C:\\Users\\ELCOT\\AppData\\Roaming\\nltk_data...\n",
      "[nltk_data]   Package punkt is already up-to-date!\n"
     ]
    }
   ],
   "source": [
    "import nltk\n",
    "nltk.download('punkt')\n",
    "from nltk.stem.porter import PorterStemmer\n",
    "ps = PorterStemmer()\n",
    "\n",
    "def tokenization(txt):\n",
    "    tokens = nltk.word_tokenize(txt)\n",
    "    stemming = [ps.stem(w) for w in tokens]\n",
    "    \n",
    "    return \" \".join(stemming)\n"
   ]
  },
  {
   "cell_type": "code",
   "execution_count": 71,
   "id": "37629baa",
   "metadata": {},
   "outputs": [],
   "source": [
    "df['Description'] = df['Description'].apply(lambda x: tokenization(x))"
   ]
  },
  {
   "cell_type": "code",
   "execution_count": 72,
   "id": "ca9b02b5",
   "metadata": {},
   "outputs": [
    {
     "data": {
      "text/plain": [
       "0                autom write for seo and content market .\n",
       "1                creat uniqu imag with ai tailor to you .\n",
       "2        autom meet summari to captur and share insight .\n",
       "3                     the ultim browser exten for chatgpt\n",
       "4                                     gener custom imag .\n",
       "                              ...                        \n",
       "3995    reduc call volum & improv custom experi with a...\n",
       "3996      cassett ai is your copilot for music creation .\n",
       "3997            gener accur , human-lik sale call summari\n",
       "3998                       instant studio‑qu imag with ai\n",
       "3999    presto is an ai-driven autom tool design speci...\n",
       "Name: Description, Length: 4000, dtype: object"
      ]
     },
     "execution_count": 72,
     "metadata": {},
     "output_type": "execute_result"
    }
   ],
   "source": [
    "df['Description']"
   ]
  },
  {
   "cell_type": "code",
   "execution_count": 73,
   "id": "4aff663d",
   "metadata": {},
   "outputs": [],
   "source": [
    "from sklearn.feature_extraction.text import TfidfVectorizer\n",
    "from sklearn.metrics.pairwise import cosine_similarity"
   ]
  },
  {
   "cell_type": "code",
   "execution_count": 74,
   "id": "77729bd5",
   "metadata": {},
   "outputs": [],
   "source": [
    "tfid = TfidfVectorizer(stop_words='english')\n",
    "matrix = tfid.fit_transform(df['Description'])"
   ]
  },
  {
   "cell_type": "code",
   "execution_count": 75,
   "id": "498d0ded",
   "metadata": {},
   "outputs": [
    {
     "data": {
      "text/plain": [
       "(4000, 3763)"
      ]
     },
     "execution_count": 75,
     "metadata": {},
     "output_type": "execute_result"
    }
   ],
   "source": [
    "matrix.shape"
   ]
  },
  {
   "cell_type": "code",
   "execution_count": 76,
   "id": "f12f7aec",
   "metadata": {},
   "outputs": [],
   "source": [
    "similarity = cosine_similarity(matrix)"
   ]
  },
  {
   "cell_type": "code",
   "execution_count": 77,
   "id": "d9d45f88",
   "metadata": {},
   "outputs": [
    {
     "data": {
      "text/plain": [
       "array([1.        , 0.        , 0.13274022, ..., 0.        , 0.        ,\n",
       "       0.1041872 ])"
      ]
     },
     "execution_count": 77,
     "metadata": {},
     "output_type": "execute_result"
    }
   ],
   "source": [
    "similarity[0]"
   ]
  },
  {
   "cell_type": "code",
   "execution_count": 78,
   "id": "fcef5ea5",
   "metadata": {},
   "outputs": [
    {
     "data": {
      "text/plain": [
       "'Linkdelta'"
      ]
     },
     "execution_count": 78,
     "metadata": {},
     "output_type": "execute_result"
    }
   ],
   "source": [
    "df['aitool'][0]"
   ]
  },
  {
   "cell_type": "code",
   "execution_count": 80,
   "id": "e1dc0013",
   "metadata": {},
   "outputs": [
    {
     "data": {
      "text/html": [
       "<div>\n",
       "<style scoped>\n",
       "    .dataframe tbody tr th:only-of-type {\n",
       "        vertical-align: middle;\n",
       "    }\n",
       "\n",
       "    .dataframe tbody tr th {\n",
       "        vertical-align: top;\n",
       "    }\n",
       "\n",
       "    .dataframe thead th {\n",
       "        text-align: right;\n",
       "    }\n",
       "</style>\n",
       "<table border=\"1\" class=\"dataframe\">\n",
       "  <thead>\n",
       "    <tr style=\"text-align: right;\">\n",
       "      <th></th>\n",
       "      <th>aitool</th>\n",
       "      <th>Description</th>\n",
       "      <th>Free/Paid/Other</th>\n",
       "      <th>Useable For</th>\n",
       "      <th>Charges</th>\n",
       "      <th>Review</th>\n",
       "      <th>Major Category</th>\n",
       "    </tr>\n",
       "  </thead>\n",
       "  <tbody>\n",
       "    <tr>\n",
       "      <th>0</th>\n",
       "      <td>Linkdelta</td>\n",
       "      <td>autom write for seo and content market .</td>\n",
       "      <td>Paid</td>\n",
       "      <td>/ SEO</td>\n",
       "      <td>$ 15/mo</td>\n",
       "      <td>NaN</td>\n",
       "      <td>text</td>\n",
       "    </tr>\n",
       "  </tbody>\n",
       "</table>\n",
       "</div>"
      ],
      "text/plain": [
       "      aitool                               Description Free/Paid/Other  \\\n",
       "0  Linkdelta  autom write for seo and content market .            Paid   \n",
       "\n",
       "  Useable For  Charges Review Major Category  \n",
       "0       / SEO  $ 15/mo    NaN           text  "
      ]
     },
     "execution_count": 80,
     "metadata": {},
     "output_type": "execute_result"
    }
   ],
   "source": [
    "df[df['aitool']== 'Linkdelta']"
   ]
  },
  {
   "cell_type": "code",
   "execution_count": 82,
   "id": "5ef858ad",
   "metadata": {},
   "outputs": [],
   "source": [
    "def recommendation(aitool):\n",
    "    idx = df[df['aitool']==aitool].index[0]\n",
    "    distances = sorted(list(enumerate(similarity[idx])),reverse=False, key=lambda x:x[1])\n",
    "    tools=[]\n",
    "    for i in distances[1:21]:\n",
    "        tools.append(df.iloc[i[0]].aitool)\n",
    "    return tools"
   ]
  },
  {
   "cell_type": "code",
   "execution_count": 83,
   "id": "038730f7",
   "metadata": {},
   "outputs": [
    {
     "data": {
      "text/plain": [
       "['Alicent',\n",
       " 'Imgcreator',\n",
       " 'Bard For Google Pro',\n",
       " 'Certainly',\n",
       " 'Doogle Ai',\n",
       " 'Semafind',\n",
       " 'Xokind',\n",
       " 'Scispace',\n",
       " 'Ai Pet Avatar',\n",
       " 'Thediytrip',\n",
       " 'Mix Check Studio',\n",
       " 'Deepnote',\n",
       " 'Skybox Lab',\n",
       " 'Autotextgenie Ai',\n",
       " 'Coverletter.App',\n",
       " 'Dupdub',\n",
       " 'Sharly Ai',\n",
       " 'Codegeex',\n",
       " 'Teach-O-Matic',\n",
       " 'Resume Ai Scanner']"
      ]
     },
     "execution_count": 83,
     "metadata": {},
     "output_type": "execute_result"
    }
   ],
   "source": [
    "recommendation('Linkdelta')"
   ]
  },
  {
   "cell_type": "code",
   "execution_count": null,
   "id": "ea754fe1",
   "metadata": {},
   "outputs": [],
   "source": []
  }
 ],
 "metadata": {
  "kernelspec": {
   "display_name": "Python 3 (ipykernel)",
   "language": "python",
   "name": "python3"
  },
  "language_info": {
   "codemirror_mode": {
    "name": "ipython",
    "version": 3
   },
   "file_extension": ".py",
   "mimetype": "text/x-python",
   "name": "python",
   "nbconvert_exporter": "python",
   "pygments_lexer": "ipython3",
   "version": "3.11.5"
  }
 },
 "nbformat": 4,
 "nbformat_minor": 5
}
